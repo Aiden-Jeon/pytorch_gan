{
 "cells": [
  {
   "cell_type": "code",
   "execution_count": null,
   "metadata": {},
   "outputs": [],
   "source": [
    "from functools import partial\n",
    "\n",
    "import torch\n",
    "import torch.nn as nn\n",
    "from torch.utils.data import DataLoader\n",
    "\n",
    "import torchvision.datasets as dsets\n",
    "import torchvision.transforms as T\n",
    "from torchvision.utils import make_grid\n",
    "\n",
    "from ignite.engine import Engine, Events\n",
    "from ignite.contrib.handlers.tqdm_logger import ProgressBar\n",
    "from ignite.metrics import Average\n",
    "\n",
    "import matplotlib.pyplot as plt\n",
    "\n",
    "from modules import Generator, Discriminator\n",
    "from models import DeepConvolutionGAN\n",
    "from loss import bce_loss"
   ]
  },
  {
   "cell_type": "markdown",
   "metadata": {},
   "source": [
    "# Data"
   ]
  },
  {
   "cell_type": "markdown",
   "metadata": {},
   "source": [
    "## Dataloader"
   ]
  },
  {
   "cell_type": "code",
   "execution_count": null,
   "metadata": {},
   "outputs": [],
   "source": [
    "train_data = dsets.CIFAR10(\"./\", download=True, transform=T.ToTensor())\n",
    "train_loader = DataLoader(train_data, batch_size=256, shuffle=True)"
   ]
  },
  {
   "cell_type": "markdown",
   "metadata": {},
   "source": [
    "## Data arguments"
   ]
  },
  {
   "cell_type": "code",
   "execution_count": null,
   "metadata": {},
   "outputs": [],
   "source": [
    "input_size = 32"
   ]
  },
  {
   "cell_type": "markdown",
   "metadata": {},
   "source": [
    "# Model"
   ]
  },
  {
   "cell_type": "markdown",
   "metadata": {},
   "source": [
    "## Generator arguments"
   ]
  },
  {
   "cell_type": "code",
   "execution_count": null,
   "metadata": {},
   "outputs": [],
   "source": [
    "latent_dim = 100\n",
    "G_hidden_channel = 128\n",
    "G_last_act = \"sigmoid\""
   ]
  },
  {
   "cell_type": "markdown",
   "metadata": {},
   "source": [
    "## Discriminator arguments"
   ]
  },
  {
   "cell_type": "code",
   "execution_count": null,
   "metadata": {},
   "outputs": [],
   "source": [
    "D_hidden_channel = 128\n",
    "D_last_act = \"sigmoid\"\n",
    "loss_fn = bce_loss"
   ]
  },
  {
   "cell_type": "markdown",
   "metadata": {},
   "source": [
    "## Make model"
   ]
  },
  {
   "cell_type": "code",
   "execution_count": null,
   "metadata": {},
   "outputs": [],
   "source": [
    "generator = Generator(input_size=input_size, latent_dim=latent_dim, hidden_channel=G_hidden_channel, last_act=G_last_act)\n",
    "discriminator = Discriminator(input_size=input_size, hidden_channel=D_hidden_channel, last_act=D_last_act)"
   ]
  },
  {
   "cell_type": "code",
   "execution_count": null,
   "metadata": {},
   "outputs": [],
   "source": [
    "model = DeepConvolutionGAN(\n",
    "    generator=generator,\n",
    "    generator_opt=torch.optim.Adam(generator.parameters(), 1e-4),\n",
    "    discriminator=discriminator,\n",
    "    discriminator_opt=torch.optim.Adam(discriminator.parameters(), 1e-4),\n",
    "    loss_fn=loss_fn,\n",
    ")"
   ]
  },
  {
   "cell_type": "code",
   "execution_count": null,
   "metadata": {},
   "outputs": [],
   "source": [
    "if torch.cuda.is_available():\n",
    "    _ = model.cuda()"
   ]
  },
  {
   "cell_type": "markdown",
   "metadata": {},
   "source": [
    "# Trainer"
   ]
  },
  {
   "cell_type": "markdown",
   "metadata": {},
   "source": [
    "## Set Ignite Engine"
   ]
  },
  {
   "cell_type": "code",
   "execution_count": null,
   "metadata": {},
   "outputs": [],
   "source": [
    "trainer = Engine(model.fit_batch)"
   ]
  },
  {
   "cell_type": "markdown",
   "metadata": {},
   "source": [
    "## Set metrics"
   ]
  },
  {
   "cell_type": "code",
   "execution_count": null,
   "metadata": {},
   "outputs": [],
   "source": [
    "def output_transform(output, key):\n",
    "    return output[key]\n",
    "\n",
    "\n",
    "for key in [\"G_loss\", \"D_loss\"]:\n",
    "    average = Average(output_transform=partial(output_transform, key=key))\n",
    "    average.attach(trainer, key)"
   ]
  },
  {
   "cell_type": "markdown",
   "metadata": {},
   "source": [
    "## Save history"
   ]
  },
  {
   "cell_type": "code",
   "execution_count": null,
   "metadata": {},
   "outputs": [],
   "source": [
    "trainer.history = []\n",
    "\n",
    "\n",
    "@trainer.on(Events.EPOCH_COMPLETED)\n",
    "def log_metric(engine):\n",
    "    trainer.history += [engine.state.metrics]"
   ]
  },
  {
   "cell_type": "markdown",
   "metadata": {},
   "source": [
    "## Set Progressbar"
   ]
  },
  {
   "cell_type": "code",
   "execution_count": null,
   "metadata": {},
   "outputs": [],
   "source": [
    "@trainer.on(Events.EPOCH_COMPLETED(every=5))\n",
    "def print_every(engine, num_img=64):\n",
    "    from math import sqrt\n",
    "\n",
    "    # print metrics\n",
    "    state = f\"Epoch {engine.state.epoch} - \"\n",
    "    for key, value in engine.state.metrics.items():\n",
    "        state += f\"{key}: {value:.4f}, \"\n",
    "    print(state)\n",
    "\n",
    "    # print img\n",
    "    nrow = ncol = sqrt(num_img)\n",
    "    if nrow * ncol < num_img:\n",
    "        nrow += 1\n",
    "\n",
    "    with torch.no_grad():\n",
    "        model.generator.eval()\n",
    "        device = next(model.generator.parameters()).device\n",
    "        z = torch.randn((num_img, model.generator.latent_dim)).to(device)\n",
    "        fake_data = model.generator(z).cpu()\n",
    "        fake_data_grid = make_grid(fake_data, int(nrow))\n",
    "        plt.imshow(fake_data_grid.permute(1, 2, 0))\n",
    "        plt.show()"
   ]
  },
  {
   "cell_type": "code",
   "execution_count": null,
   "metadata": {},
   "outputs": [],
   "source": [
    "trainer.run(train_loader, 50)"
   ]
  }
 ],
 "metadata": {
  "kernelspec": {
   "display_name": "develop",
   "language": "python",
   "name": "develop"
  },
  "language_info": {
   "codemirror_mode": {
    "name": "ipython",
    "version": 3
   },
   "file_extension": ".py",
   "mimetype": "text/x-python",
   "name": "python",
   "nbconvert_exporter": "python",
   "pygments_lexer": "ipython3",
   "version": "3.7.6"
  },
  "toc-autonumbering": true
 },
 "nbformat": 4,
 "nbformat_minor": 4
}
